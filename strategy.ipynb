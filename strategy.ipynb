{
  "nbformat": 4,
  "nbformat_minor": 0,
  "metadata": {
    "colab": {
      "name": "strategy.ipynb",
      "provenance": [],
      "mount_file_id": "1o0yP3fnJll7EFFnNVgNquBJ155Eb5rfE",
      "authorship_tag": "ABX9TyM/nCTrW8k01E0DEhG2p0TX",
      "include_colab_link": true
    },
    "kernelspec": {
      "name": "python3",
      "display_name": "Python 3"
    }
  },
  "cells": [
    {
      "cell_type": "markdown",
      "metadata": {
        "id": "view-in-github",
        "colab_type": "text"
      },
      "source": [
        "<a href=\"https://colab.research.google.com/github/sricheruvu/Forex2/blob/master/strategy.ipynb\" target=\"_parent\"><img src=\"https://colab.research.google.com/assets/colab-badge.svg\" alt=\"Open In Colab\"/></a>"
      ]
    },
    {
      "cell_type": "code",
      "metadata": {
        "id": "9swTPhfgUXDA",
        "colab_type": "code",
        "colab": {
          "base_uri": "https://localhost:8080/",
          "height": 374
        },
        "outputId": "9c222c40-2765-4934-a9c1-92d8c00c32d6"
      },
      "source": [
        "import random\n",
        "\n",
        "from event import OrderEvent\n",
        "\n",
        "\n",
        "class TestRandomStrategy(object):\n",
        "    def __init__(self, instrument, units, events):\n",
        "        self.instrument = instrument\n",
        "        self.units = units\n",
        "        self.events = events\n",
        "        self.ticks = 0\n",
        "\n",
        "    def calculate_signals(self, event):\n",
        "        if event.type == 'TICK':\n",
        "            self.ticks += 1\n",
        "            if self.ticks % 5 == 0:\n",
        "                side = random.choice([\"buy\", \"sell\"])\n",
        "                order = OrderEvent(\n",
        "                    self.instrument, self.units, \"market\", side\n",
        "                )\n",
        "                self.events.put(order)"
      ],
      "execution_count": 1,
      "outputs": [
        {
          "output_type": "error",
          "ename": "ModuleNotFoundError",
          "evalue": "ignored",
          "traceback": [
            "\u001b[0;31m---------------------------------------------------------------------------\u001b[0m",
            "\u001b[0;31mModuleNotFoundError\u001b[0m                       Traceback (most recent call last)",
            "\u001b[0;32m<ipython-input-1-1dca07b05307>\u001b[0m in \u001b[0;36m<module>\u001b[0;34m()\u001b[0m\n\u001b[1;32m      1\u001b[0m \u001b[0;32mimport\u001b[0m \u001b[0mrandom\u001b[0m\u001b[0;34m\u001b[0m\u001b[0;34m\u001b[0m\u001b[0m\n\u001b[1;32m      2\u001b[0m \u001b[0;34m\u001b[0m\u001b[0m\n\u001b[0;32m----> 3\u001b[0;31m \u001b[0;32mfrom\u001b[0m \u001b[0mevent\u001b[0m \u001b[0;32mimport\u001b[0m \u001b[0mOrderEvent\u001b[0m\u001b[0;34m\u001b[0m\u001b[0;34m\u001b[0m\u001b[0m\n\u001b[0m\u001b[1;32m      4\u001b[0m \u001b[0;34m\u001b[0m\u001b[0m\n\u001b[1;32m      5\u001b[0m \u001b[0;34m\u001b[0m\u001b[0m\n",
            "\u001b[0;31mModuleNotFoundError\u001b[0m: No module named 'event'",
            "",
            "\u001b[0;31m---------------------------------------------------------------------------\u001b[0;32m\nNOTE: If your import is failing due to a missing package, you can\nmanually install dependencies using either !pip or !apt.\n\nTo view examples of installing some common dependencies, click the\n\"Open Examples\" button below.\n\u001b[0;31m---------------------------------------------------------------------------\u001b[0m\n"
          ]
        }
      ]
    }
  ]
}