{
  "nbformat": 4,
  "nbformat_minor": 0,
  "metadata": {
    "colab": {
      "name": "event.ipynb",
      "provenance": [],
      "authorship_tag": "ABX9TyPfw+4q42xVI9E96POhGu5B",
      "include_colab_link": true
    },
    "kernelspec": {
      "name": "python3",
      "display_name": "Python 3"
    }
  },
  "cells": [
    {
      "cell_type": "markdown",
      "metadata": {
        "id": "view-in-github",
        "colab_type": "text"
      },
      "source": [
        "<a href=\"https://colab.research.google.com/github/sricheruvu/Forex2/blob/master/event.ipynb\" target=\"_parent\"><img src=\"https://colab.research.google.com/assets/colab-badge.svg\" alt=\"Open In Colab\"/></a>"
      ]
    },
    {
      "cell_type": "code",
      "metadata": {
        "id": "9U7kjWnmS4b6",
        "colab_type": "code",
        "colab": {}
      },
      "source": [
        "class Event(object):\n",
        "    pass\n",
        "\n",
        "\n",
        "class TickEvent(Event):\n",
        "    def __init__(self, instrument, time, bid, ask):\n",
        "        self.type = 'TICK'\n",
        "        self.instrument = instrument\n",
        "        self.time = time\n",
        "        self.bid = bid\n",
        "        self.ask = ask\n",
        "\n",
        "\n",
        "class OrderEvent(Event):\n",
        "    def __init__(self, instrument, units, order_type, side):\n",
        "        self.type = 'ORDER'\n",
        "        self.instrument = instrument\n",
        "        self.units = units\n",
        "        self.order_type = order_type\n",
        "        self.side = side"
      ],
      "execution_count": 1,
      "outputs": []
    }
  ]
}