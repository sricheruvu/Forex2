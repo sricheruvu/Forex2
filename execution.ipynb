{
  "nbformat": 4,
  "nbformat_minor": 0,
  "metadata": {
    "colab": {
      "name": "execution.ipynb",
      "provenance": [],
      "authorship_tag": "ABX9TyO23vSkemFuH3zRARRZi6nD",
      "include_colab_link": true
    },
    "kernelspec": {
      "name": "python3",
      "display_name": "Python 3"
    }
  },
  "cells": [
    {
      "cell_type": "markdown",
      "metadata": {
        "id": "view-in-github",
        "colab_type": "text"
      },
      "source": [
        "<a href=\"https://colab.research.google.com/github/sricheruvu/Forex2/blob/master/execution.ipynb\" target=\"_parent\"><img src=\"https://colab.research.google.com/assets/colab-badge.svg\" alt=\"Open In Colab\"/></a>"
      ]
    },
    {
      "cell_type": "code",
      "metadata": {
        "id": "2jOEpPwrTVz_",
        "colab_type": "code",
        "colab": {}
      },
      "source": [
        "!pip install http.client"
      ],
      "execution_count": null,
      "outputs": []
    },
    {
      "cell_type": "code",
      "metadata": {
        "id": "ZxAERp9GTIAx",
        "colab_type": "code",
        "colab": {}
      },
      "source": [
        "import http.client\n",
        "import urllib\n",
        "\n",
        "\n",
        "class Execution(object):\n",
        "    def __init__(self, domain, access_token, account_id):\n",
        "        self.domain = domain\n",
        "        self.access_token = access_token\n",
        "        self.account_id = account_id\n",
        "        self.conn = self.obtain_connection()\n",
        "\n",
        "    def obtain_connection(self):\n",
        "        return httplib.HTTPSConnection(self.domain)\n",
        "\n",
        "    def execute_order(self, event):\n",
        "        headers = {\n",
        "            \"Content-Type\": \"application/x-www-form-urlencoded\",\n",
        "            \"Authorization\": \"Bearer \" + self.access_token\n",
        "        }\n",
        "        params = urllib.urlencode({\n",
        "            \"instrument\" : event.instrument,\n",
        "            \"units\" : event.units,\n",
        "            \"type\" : event.order_type,\n",
        "            \"side\" : event.side\n",
        "        })\n",
        "        self.conn.request(\n",
        "            \"POST\",\n",
        "            \"/v1/accounts/%s/orders\" % str(self.account_id),\n",
        "            params, headers\n",
        "        )\n",
        "        response = self.conn.getresponse().read()\n",
        "        print (response)"
      ],
      "execution_count": 5,
      "outputs": []
    }
  ]
}