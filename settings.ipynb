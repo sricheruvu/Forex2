{
  "nbformat": 4,
  "nbformat_minor": 0,
  "metadata": {
    "colab": {
      "name": "settings.ipynb",
      "provenance": [],
      "authorship_tag": "ABX9TyO85zqtQXBA4oEeCBIWoOE1",
      "include_colab_link": true
    },
    "kernelspec": {
      "name": "python3",
      "display_name": "Python 3"
    }
  },
  "cells": [
    {
      "cell_type": "markdown",
      "metadata": {
        "id": "view-in-github",
        "colab_type": "text"
      },
      "source": [
        "<a href=\"https://colab.research.google.com/github/sricheruvu/Forex2/blob/master/settings.ipynb\" target=\"_parent\"><img src=\"https://colab.research.google.com/assets/colab-badge.svg\" alt=\"Open In Colab\"/></a>"
      ]
    },
    {
      "cell_type": "code",
      "metadata": {
        "id": "2xXzDpKbSNQo",
        "colab_type": "code",
        "colab": {}
      },
      "source": [
        "ENVIRONMENTS = {\n",
        "    \"streaming\": {\n",
        "        \"real\": \"stream-fxtrade.oanda.com\",\n",
        "        \"practice\": \"stream-fxpractice.oanda.com\",\n",
        "        \"sandbox\": \"stream-sandbox.oanda.com\"\n",
        "    },\n",
        "    \"api\": {\n",
        "        \"real\": \"api-fxtrade.oanda.com\",\n",
        "        \"practice\": \"api-fxpractice.oanda.com\",\n",
        "        \"sandbox\": \"api-sandbox.oanda.com\"\n",
        "    }\n",
        "}\n",
        "\n",
        "DOMAIN = \"practice\"\n",
        "STREAM_DOMAIN = ENVIRONMENTS[\"streaming\"][DOMAIN]\n",
        "API_DOMAIN = ENVIRONMENTS[\"api\"][DOMAIN]\n",
        "ACCESS_TOKEN = 'abcdef0123456abcdef0123456-abcdef0123456abcdef0123456'\n",
        "ACCOUNT_ID = '12345678'"
      ],
      "execution_count": 1,
      "outputs": []
    }
  ]
}